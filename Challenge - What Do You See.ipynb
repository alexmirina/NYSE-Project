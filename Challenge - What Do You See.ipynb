{
 "cells": [
  {
   "cell_type": "code",
   "execution_count": 20,
   "metadata": {
    "collapsed": false
   },
   "outputs": [
    {
     "name": "stdout",
     "output_type": "stream",
     "text": [
      "2.02\n",
      "5.26\n"
     ]
    },
    {
     "data": {
      "image/png": "[encoded data removed]",
      "text/plain": [
       "<matplotlib.figure.Figure at 0x1c2212bb748>"
      ]
     },
     "metadata": {},
     "output_type": "display_data"
    }
   ],
   "source": [
    "import numpy as np\n",
    "import pandas as pd\n",
    "import scipy\n",
    "import matplotlib.pyplot as plt\n",
    "%matplotlib inline\n",
    "\n",
    "pop1 = np.random.binomial(10, 0.2, 100)\n",
    "pop2 = np.random.binomial(10,0.5, 100) \n",
    "\n",
    "# Let’s make histograms for the two groups. \n",
    "plt.hist(pop1, alpha = .5, label = 'Pop1')\n",
    "plt.hist(pop2, alpha = .5, label = 'Pop2')\n",
    "plt.legend(loc='upper right')\n",
    "# Add a vertical line at the mean.\n",
    "plt.axvline(pop1.mean(), color='b', linestyle='solid', linewidth=2)\n",
    "plt.axvline(pop2.mean(), color = 'g', linestyle = 'solid', linewidth = 2)\n",
    "\n",
    "# Add a vertical line at one standard deviation above the mean.\n",
    "plt.axvline(pop1.mean() + pop1.std(), color='b', linestyle='dashed', linewidth=2)\n",
    "plt.axvline(pop2.mean() + pop2.std(), color = 'g', linestyle = 'dashed', linewidth = 2)\n",
    "\n",
    "# Add a vertical line at one standard deviation below the mean.\n",
    "plt.axvline(pop1.mean()-pop1.std(), color='b', linestyle='dashed', linewidth=2) \n",
    "plt.axvline(pop2.mean()- pop2.std(), color='g', linestyle='dashed', linewidth=2) \n",
    "\n",
    "print(pop1.mean())\n",
    "print(pop2.mean())"
   ]
  },
  {
   "cell_type": "code",
   "execution_count": 31,
   "metadata": {
    "collapsed": false
   },
   "outputs": [
    {
     "name": "stdout",
     "output_type": "stream",
     "text": [
      "1.991\n",
      "4.938\n"
     ]
    },
    {
     "data": {
      "image/png": "[encoded data removed]",
      "text/plain": [
       "<matplotlib.figure.Figure at 0x1c2224e8630>"
      ]
     },
     "metadata": {},
     "output_type": "display_data"
    }
   ],
   "source": [
    "pop1 = np.random.binomial(10, .2, 1000)\n",
    "pop2 = np.random.binomial(10, .5, 1000)\n",
    "\n",
    "plt.hist(pop1, alpha=0.5, label='pop 1') \n",
    "plt.hist(pop2, alpha=0.5, label='pop 2') \n",
    "plt.legend(loc='upper right')\n",
    "# Add a vertical line at the mean.\n",
    "plt.axvline(pop1.mean(), color='b', linestyle='solid', linewidth=2)\n",
    "plt.axvline(pop2.mean(), color = 'g', linestyle = 'solid', linewidth = 2)\n",
    "\n",
    "# Add a vertical line at one standard deviation above the mean.\n",
    "plt.axvline(pop1.mean() + pop1.std(), color='b', linestyle='dashed', linewidth=2)\n",
    "plt.axvline(pop2.mean() + pop2.std(), color = 'g', linestyle = 'dashed', linewidth = 2)\n",
    "\n",
    "# Add a vertical line at one standard deviation below the mean.\n",
    "plt.axvline(pop1.mean()-pop1.std(), color='b', linestyle='dashed', linewidth=2) \n",
    "plt.axvline(pop2.mean()- pop2.std(), color='g', linestyle='dashed', linewidth=2) \n",
    "\n",
    "print(pop1.mean())\n",
    "print(pop2.mean())"
   ]
  },
  {
   "cell_type": "code",
   "execution_count": 30,
   "metadata": {
    "collapsed": false
   },
   "outputs": [
    {
     "name": "stdout",
     "output_type": "stream",
     "text": [
      "2.35\n",
      "4.65\n"
     ]
    },
    {
     "data": {
      "image/png": "[encoded data removed]",
      "text/plain": [
       "<matplotlib.figure.Figure at 0x1c222628630>"
      ]
     },
     "metadata": {},
     "output_type": "display_data"
    }
   ],
   "source": [
    "pop1 = np.random.binomial(10, .2, 20)\n",
    "pop2 = np.random.binomial(10, .5, 20)\n",
    "\n",
    "plt.hist(pop1, alpha=0.5, label='pop 1') \n",
    "plt.hist(pop2, alpha=0.5, label='pop 2') \n",
    "plt.legend(loc='upper right')\n",
    "# Add a vertical line at the mean.\n",
    "plt.axvline(pop1.mean(), color='b', linestyle='solid', linewidth=2)\n",
    "plt.axvline(pop2.mean(), color = 'g', linestyle = 'solid', linewidth = 2)\n",
    "\n",
    "# Add a vertical line at one standard deviation above the mean.\n",
    "plt.axvline(pop1.mean() + pop1.std(), color='b', linestyle='dashed', linewidth=2)\n",
    "plt.axvline(pop2.mean() + pop2.std(), color = 'g', linestyle = 'dashed', linewidth = 2)\n",
    "\n",
    "# Add a vertical line at one standard deviation below the mean.\n",
    "plt.axvline(pop1.mean()-pop1.std(), color='b', linestyle='dashed', linewidth=2) \n",
    "plt.axvline(pop2.mean()- pop2.std(), color='g', linestyle='dashed', linewidth=2) \n",
    "\n",
    "print(pop1.mean())\n",
    "print(pop2.mean())"
   ]
  },
  {
   "cell_type": "code",
   "execution_count": 29,
   "metadata": {
    "collapsed": false
   },
   "outputs": [
    {
     "name": "stdout",
     "output_type": "stream",
     "text": [
      "2.45\n",
      "4.7\n"
     ]
    },
    {
     "data": {
      "image/png": "[encoded data removed]",
      "text/plain": [
       "<matplotlib.figure.Figure at 0x1c222507390>"
      ]
     },
     "metadata": {},
     "output_type": "display_data"
    }
   ],
   "source": [
    "pop1 = np.random.binomial(10, .3, 20)\n",
    "pop2 = np.random.binomial(10, .5, 20)\n",
    "\n",
    "plt.hist(pop1, alpha=0.5, label='pop 1') \n",
    "plt.hist(pop2, alpha=0.5, label='pop 2') \n",
    "plt.legend(loc='upper right')\n",
    "# Add a vertical line at the mean.\n",
    "plt.axvline(pop1.mean(), color='b', linestyle='solid', linewidth=2)\n",
    "plt.axvline(pop2.mean(), color = 'g', linestyle = 'solid', linewidth = 2)\n",
    "\n",
    "# Add a vertical line at one standard deviation above the mean.\n",
    "plt.axvline(pop1.mean() + pop1.std(), color='b', linestyle='dashed', linewidth=2)\n",
    "plt.axvline(pop2.mean() + pop2.std(), color = 'g', linestyle = 'dashed', linewidth = 2)\n",
    "\n",
    "# Add a vertical line at one standard deviation below the mean.\n",
    "plt.axvline(pop1.mean()-pop1.std(), color='b', linestyle='dashed', linewidth=2) \n",
    "plt.axvline(pop2.mean()- pop2.std(), color='g', linestyle='dashed', linewidth=2) \n",
    "\n",
    "print(pop1.mean())\n",
    "print(pop2.mean())"
   ]
  },
  {
   "cell_type": "code",
   "execution_count": 28,
   "metadata": {
    "collapsed": false
   },
   "outputs": [
    {
     "name": "stdout",
     "output_type": "stream",
     "text": [
      "4.35\n",
      "5.6\n"
     ]
    },
    {
     "data": {
      "image/png": "[encoded data removed]",
      "text/plain": [
       "<matplotlib.figure.Figure at 0x1c220e4f7f0>"
      ]
     },
     "metadata": {},
     "output_type": "display_data"
    }
   ],
   "source": [
    "pop1 = np.random.binomial(10, .4, 20)\n",
    "pop2 = np.random.binomial(10, .5, 20)\n",
    "\n",
    "plt.hist(pop1, alpha=0.5, label='pop 1') \n",
    "plt.hist(pop2, alpha=0.5, label='pop 2') \n",
    "plt.legend(loc='upper right')\n",
    "# Add a vertical line at the mean.\n",
    "plt.axvline(pop1.mean(), color='b', linestyle='solid', linewidth=2)\n",
    "plt.axvline(pop2.mean(), color = 'g', linestyle = 'solid', linewidth = 2)\n",
    "\n",
    "# Add a vertical line at one standard deviation above the mean.\n",
    "plt.axvline(pop1.mean() + pop1.std(), color='b', linestyle='dashed', linewidth=2)\n",
    "plt.axvline(pop2.mean() + pop2.std(), color = 'g', linestyle = 'dashed', linewidth = 2)\n",
    "\n",
    "# Add a vertical line at one standard deviation below the mean.\n",
    "plt.axvline(pop1.mean()-pop1.std(), color='b', linestyle='dashed', linewidth=2) \n",
    "plt.axvline(pop2.mean()- pop2.std(), color='g', linestyle='dashed', linewidth=2) \n",
    "\n",
    "print(pop1.mean())\n",
    "print(pop2.mean())"
   ]
  },
  {
   "cell_type": "code",
   "execution_count": 27,
   "metadata": {
    "collapsed": false
   },
   "outputs": [
    {
     "name": "stdout",
     "output_type": "stream",
     "text": [
      "3.058\n",
      "5.141\n"
     ]
    },
    {
     "data": {
      "image/png": "[encoded data removed]",
      "text/plain": [
       "<matplotlib.figure.Figure at 0x1c221026a58>"
      ]
     },
     "metadata": {},
     "output_type": "display_data"
    }
   ],
   "source": [
    "pop1 = np.random.poisson(3, 1000)\n",
    "pop2 = np.random.poisson(5, 1000)\n",
    "\n",
    "plt.hist(pop1, alpha=0.5, label='pop 1') \n",
    "plt.hist(pop2, alpha=0.5, label='pop 2') \n",
    "plt.legend(loc='upper right')\n",
    "# Add a vertical line at the mean.\n",
    "plt.axvline(pop1.mean(), color='b', linestyle='solid', linewidth=2)\n",
    "plt.axvline(pop2.mean(), color = 'g', linestyle = 'solid', linewidth = 2)\n",
    "\n",
    "# Add a vertical line at one standard deviation above the mean.\n",
    "plt.axvline(pop1.mean() + pop1.std(), color='b', linestyle='dashed', linewidth=2)\n",
    "plt.axvline(pop2.mean() + pop2.std(), color = 'g', linestyle = 'dashed', linewidth = 2)\n",
    "\n",
    "# Add a vertical line at one standard deviation below the mean.\n",
    "plt.axvline(pop1.mean()-pop1.std(), color='b', linestyle='dashed', linewidth=2) \n",
    "plt.axvline(pop2.mean()- pop2.std(), color='g', linestyle='dashed', linewidth=2) \n",
    "\n",
    "print(pop1.mean())\n",
    "print(pop2.mean())"
   ]
  },
  {
   "cell_type": "code",
   "execution_count": null,
   "metadata": {
    "collapsed": true
   },
   "outputs": [],
   "source": []
  }
 ],
 "metadata": {
  "kernelspec": {
   "display_name": "Python 3",
   "language": "python",
   "name": "python3"
  },
  "language_info": {
   "codemirror_mode": {
    "name": "ipython",
    "version": 3
   },
   "file_extension": ".py",
   "mimetype": "text/x-python",
   "name": "python",
   "nbconvert_exporter": "python",
   "pygments_lexer": "ipython3",
   "version": "3.6.0"
  }
 },
 "nbformat": 4,
 "nbformat_minor": 2
}
