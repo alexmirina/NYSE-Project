{
 "cells": [
  {
   "cell_type": "markdown",
   "metadata": {},
   "source": [
    "Capstone Analytic Report and Research Proposal\n",
    "\n",
    "Describe your data set. Describe and explore your data set in the initial section of your Report. What does your data contain and what is its background? Where does it come from? Why is it interesting or significant? Conduct summary statistics and produce visualizations for the particular variables from the data set that you will use.\n",
    "\n",
    "My data comes from a Kaggle User, Dominik Gawlik, who has aggregated raw, as-is daily prices of the NYSE from 2010 to 2016. I concentrate on the prices of Apple stock (AAPL). The table contains seven columns: Date, Symbol, Open, Close, Low, High, and Volume. Many useful insights can be drawn from the data, such as determining the price volatility as a means of opening/closing price and pinpointing times in which the stock changed drastically. \n",
    "\n",
    "Analytic Question 1: \n",
    "    Would it be more beneficial for a stock holder to buy in 2010 and not make any sells throughout the history of the data, or would it be more beneficial to try to predict long / short stances?\n",
    "    \n",
    "Analytic Question 2:\n",
    "    Would a basic algorithm (the one Alex and I discussed as an answer to an interview question) create a profit for a day trader, or is there a greater need for insights in order to be profitable?\n",
    "    \n",
    "Analytic Question 3:\n",
    "    Part 1: Would a sole investment in AAPL yield a greater return than a NYSE ETF?\n",
    "    Part 2: Using the information from Question 2, would a day trader be more profitable using this algorithm only on AAPL stock, or would he have a greater return using this algorithm on the NYSE as a whole? "
   ]
  },
  {
   "cell_type": "markdown",
   "metadata": {},
   "source": [
    "Propose further research. Lastly, make a proposal for a realistic future research project on this data set that would use some data science techniques you'd like to learn in the bootcamp. Just like your earlier questions, your research proposal should present one or more clear questions. Then you should describe the techniques you would apply in order to arrive at an answer."
   ]
  }
 ],
 "metadata": {
  "kernelspec": {
   "display_name": "Python 3",
   "language": "python",
   "name": "python3"
  },
  "language_info": {
   "codemirror_mode": {
    "name": "ipython",
    "version": 3
   },
   "file_extension": ".py",
   "mimetype": "text/x-python",
   "name": "python",
   "nbconvert_exporter": "python",
   "pygments_lexer": "ipython3",
   "version": "3.6.0"
  }
 },
 "nbformat": 4,
 "nbformat_minor": 2
}
